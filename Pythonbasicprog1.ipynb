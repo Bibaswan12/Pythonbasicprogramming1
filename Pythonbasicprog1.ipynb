{
  "nbformat": 4,
  "nbformat_minor": 0,
  "metadata": {
    "colab": {
      "provenance": []
    },
    "kernelspec": {
      "name": "python3",
      "display_name": "Python 3"
    },
    "language_info": {
      "name": "python"
    }
  },
  "cells": [
    {
      "cell_type": "markdown",
      "source": [
        "#Pyhon Basic\n",
        "#Programming Assignment_1"
      ],
      "metadata": {
        "id": "R8lolrbZGyvP"
      }
    },
    {
      "cell_type": "markdown",
      "source": [
        "##1. Write a Python program to print \"Hello Python\" ?"
      ],
      "metadata": {
        "id": "kYbSuvufG7d4"
      }
    },
    {
      "cell_type": "code",
      "source": [
        "print(\"Hello Python\")"
      ],
      "metadata": {
        "colab": {
          "base_uri": "https://localhost:8080/"
        },
        "id": "llQpfbXvHMTJ",
        "outputId": "699bade8-4226-44d0-c84a-1081a5760762"
      },
      "execution_count": 1,
      "outputs": [
        {
          "output_type": "stream",
          "name": "stdout",
          "text": [
            "Hello Python\n"
          ]
        }
      ]
    },
    {
      "cell_type": "markdown",
      "source": [
        "##2. Write a Python program to do arithmetical operations addition and division.?"
      ],
      "metadata": {
        "id": "wI3IpUybHe9Y"
      }
    },
    {
      "cell_type": "code",
      "source": [
        "#For addition we use (+)\n",
        "#For division we use (/)\n",
        "\n",
        "a = int(input(\"Enter 1st number : \"))\n",
        "b = int(input(\"Enter 2nd number : \"))\n",
        "\n",
        "addition = a + b\n",
        "\n",
        "division = a / b\n",
        "\n",
        "print(f\"Addition of {a} and {b} is : {addition}\")\n",
        "print(f\"Division of {a} and {b} is : {division}\")\n"
      ],
      "metadata": {
        "colab": {
          "base_uri": "https://localhost:8080/"
        },
        "id": "dQ3DUIkpHRnT",
        "outputId": "05c78a0a-6465-48cf-ee6f-debb9b28be26"
      },
      "execution_count": 5,
      "outputs": [
        {
          "output_type": "stream",
          "name": "stdout",
          "text": [
            "Enter 1st number : 200\n",
            "Enter 2nd number : 100\n",
            "Addition of 200 and 100 is : 300\n",
            "Division of 200 and 100 is : 2.0\n"
          ]
        }
      ]
    },
    {
      "cell_type": "markdown",
      "source": [
        "##3. Write a Python program to find the area of a triangle?"
      ],
      "metadata": {
        "id": "bu5JlLFIJfrl"
      }
    },
    {
      "cell_type": "code",
      "source": [
        "b = float(input(\"Enter base of triangle :\"))\n",
        "h = float(input(\"Enter height of triangle :\"))\n",
        "\n",
        "#area = 1/2(b*h)\n",
        "\n",
        "area = 0.5*b*h\n",
        "\n",
        "print(f\"Area of  triangle is : {area} \")\n"
      ],
      "metadata": {
        "colab": {
          "base_uri": "https://localhost:8080/"
        },
        "id": "OEvd573NJJ9O",
        "outputId": "dd31964b-b8d4-4a45-a65b-51046456a7f9"
      },
      "execution_count": 7,
      "outputs": [
        {
          "output_type": "stream",
          "name": "stdout",
          "text": [
            "Enter base of triangle :10\n",
            "Enter height of triangle :15\n",
            "Area of  triangle is : 75.0 \n"
          ]
        }
      ]
    },
    {
      "cell_type": "markdown",
      "source": [
        "##4. Write a Python program to swap two variables?"
      ],
      "metadata": {
        "id": "uyIKUYHhLHtX"
      }
    },
    {
      "cell_type": "code",
      "source": [
        "a = int(input(\"Enter a number :\"))\n",
        "b = int(input(\"Enter a number :\"))\n",
        "\n",
        "temp = a\n",
        "a = b\n",
        "b = temp\n",
        "\n",
        "print(a)\n",
        "print(b)"
      ],
      "metadata": {
        "colab": {
          "base_uri": "https://localhost:8080/"
        },
        "id": "zq5PV8umKdvN",
        "outputId": "b04fe66f-64cb-461d-a302-121c14544d6b"
      },
      "execution_count": 25,
      "outputs": [
        {
          "output_type": "stream",
          "name": "stdout",
          "text": [
            "Enter a number :10\n",
            "Enter a number :20\n",
            "20\n",
            "10\n"
          ]
        }
      ]
    },
    {
      "cell_type": "markdown",
      "source": [
        "##5. Write a Python program to generate a random number?"
      ],
      "metadata": {
        "id": "xUf6u7QBM_7l"
      }
    },
    {
      "cell_type": "code",
      "source": [
        "import random\n",
        "\n",
        "number = random.randint(10,50)\n",
        "\n",
        "print(number)"
      ],
      "metadata": {
        "colab": {
          "base_uri": "https://localhost:8080/"
        },
        "id": "7U7kKmn7MsMs",
        "outputId": "648bdef2-3b2a-431e-8cb5-b1bf2bf42634"
      },
      "execution_count": 30,
      "outputs": [
        {
          "output_type": "stream",
          "name": "stdout",
          "text": [
            "40\n"
          ]
        }
      ]
    }
  ]
}